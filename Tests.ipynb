{
 "cells": [
  {
   "cell_type": "code",
   "execution_count": 8,
   "metadata": {},
   "outputs": [],
   "source": [
    "from AI import TronNode, TronTree\n",
    "from Map.Map import TronMap"
   ]
  },
  {
   "cell_type": "code",
   "execution_count": 9,
   "metadata": {},
   "outputs": [],
   "source": [
    "def printChildrenRecursive(node, depth):\n",
    "  for child in node.children:\n",
    "    print(\"\\t\"*depth, child.state, \": Alpha:\", child.alpha, \"Beta:\", child.beta, \"Heuristic:\", child.heuristic())\n",
    "    if child.children:\n",
    "      printChildrenRecursive(child, depth+1)"
   ]
  },
  {
   "cell_type": "markdown",
   "metadata": {},
   "source": [
    "Painful stuff ahead"
   ]
  },
  {
   "cell_type": "code",
   "execution_count": 10,
   "metadata": {},
   "outputs": [],
   "source": [
    "def originalTests():\n",
    "  game = TronMap()\n",
    "  print(game._num_players)\n",
    "  print(game._current_player)\n",
    "  game.print_map()\n",
    "  print([game.get_player_position(1), game.get_player_position(2)])\n",
    "  # Max\n",
    "  treeAlphaBeta = TronTree(game, True)\n",
    "  objective = treeAlphaBeta.alphaBeta(5, maxPlayer=treeAlphaBeta.root.player)\n",
    "  print(\"Decision: \", objective.state)\n",
    "  print(\"Children: \", end=\"\")\n",
    "  for child in objective.children:\n",
    "    print(child.state, end=\", \")\n",
    "  print()\n",
    "\n",
    "  game.add_move(objective.state[0][0], objective.state[0][1])\n",
    "\n",
    "  index = 1\n",
    "  printChildrenRecursive(treeAlphaBeta.root, 0)\n",
    "  # Min\n",
    "  #nodeInit=NodeTicTacToe(False,value=\"inicio\",state=initState, operators= operators)\n",
    "  #treeAlphaBeta= Tree(nodeInit,operators)\n",
    "  #objective=treeAlphaBeta.alfaBeta(5, maxPlayer=False)\n",
    "\n",
    "  # path=treeAlphaBeta.printPath(objective)\n",
    "  # graph=treeAlphaBeta.draw(path.copy())\n",
    "  # tree_image = Image(graph.create_png(), width=10000, height=10000)\n",
    "  # display(tree_image)\n"
   ]
  },
  {
   "cell_type": "markdown",
   "metadata": {},
   "source": [
    "The next thing wasn't so bad"
   ]
  },
  {
   "cell_type": "code",
   "execution_count": 18,
   "metadata": {},
   "outputs": [],
   "source": [
    "nodes = []\n",
    "\n",
    "def gameBetweenAI():\n",
    "  nodes = []\n",
    "  game = TronMap()\n",
    "  print(\"Number of players:\", game._num_players)\n",
    "  game.print_map()\n",
    "  print()\n",
    "\n",
    "  currentPlayer = True\n",
    "  while not game.game_finished():\n",
    "    move(game, currentPlayer)\n",
    "    game.print_map()\n",
    "    print()\n",
    "\n",
    "    currentPlayer = not currentPlayer\n",
    "\n",
    "  print(game.get_players_positions())\n",
    "  return game\n",
    "\n",
    "def move(game: TronMap, player: bool):\n",
    "  treeAlphaBeta = TronTree(game, player)\n",
    "  objective = treeAlphaBeta.alphaBeta(5, maxPlayer=treeAlphaBeta.root.player)\n",
    "  if player:\n",
    "    game.add_move(objective.state[0][0], objective.state[0][1])\n",
    "    print(\"Decision Max:\", objective.state[0][0], \",\", objective.state[0][1])\n",
    "  else:\n",
    "    game.add_move(objective.state[1][0], objective.state[1][1])\n",
    "    print(\"Decision Min:\", objective.state[1][0], \",\", objective.state[1][1])\n",
    "\n",
    "  nodes.append(objective)"
   ]
  },
  {
   "cell_type": "code",
   "execution_count": 22,
   "metadata": {},
   "outputs": [
    {
     "name": "stdout",
     "output_type": "stream",
     "text": [
      "Number of players: 2\n",
      "[0, 0, 0, 0, 0, 0]\n",
      "[0, 0, 0, 0, 0, 0]\n",
      "[0, 0, 0, 0, 0, 0]\n",
      "[0, 1, 0, 0, 0, 0]\n",
      "[0, 0, 0, 0, 0, 0]\n",
      "[0, 2, 0, 0, 0, 0]\n",
      "\n",
      "Decision Max: 1 , 4\n",
      "[0, 0, 0, 0, 0, 0]\n",
      "[0, 0, 0, 0, 0, 0]\n",
      "[0, 0, 0, 0, 0, 0]\n",
      "[0, 1, 0, 0, 0, 0]\n",
      "[0, 1, 0, 0, 0, 0]\n",
      "[0, 2, 0, 0, 0, 0]\n",
      "\n",
      "Decision Min: 2 , 5\n",
      "[0, 0, 0, 0, 0, 0]\n",
      "[0, 0, 0, 0, 0, 0]\n",
      "[0, 0, 0, 0, 0, 0]\n",
      "[0, 1, 0, 0, 0, 0]\n",
      "[0, 1, 0, 0, 0, 0]\n",
      "[0, 2, 2, 0, 0, 0]\n",
      "\n",
      "Decision Max: 2 , 4\n",
      "[0, 0, 0, 0, 0, 0]\n",
      "[0, 0, 0, 0, 0, 0]\n",
      "[0, 0, 0, 0, 0, 0]\n",
      "[0, 1, 0, 0, 0, 0]\n",
      "[0, 1, 1, 0, 0, 0]\n",
      "[0, 2, 2, 0, 0, 0]\n",
      "\n",
      "Decision Min: 3 , 5\n",
      "[0, 0, 0, 0, 0, 0]\n",
      "[0, 0, 0, 0, 0, 0]\n",
      "[0, 0, 0, 0, 0, 0]\n",
      "[0, 1, 0, 0, 0, 0]\n",
      "[0, 1, 1, 0, 0, 0]\n",
      "[0, 2, 2, 2, 0, 0]\n",
      "\n",
      "Decision Max: 3 , 4\n",
      "[0, 0, 0, 0, 0, 0]\n",
      "[0, 0, 0, 0, 0, 0]\n",
      "[0, 0, 0, 0, 0, 0]\n",
      "[0, 1, 0, 0, 0, 0]\n",
      "[0, 1, 1, 1, 0, 0]\n",
      "[0, 2, 2, 2, 0, 0]\n",
      "\n",
      "Decision Min: 3 , 4\n",
      "[0, 0, 0, 0, 0, 0]\n",
      "[0, 0, 0, 0, 0, 0]\n",
      "[0, 0, 0, 0, 0, 0]\n",
      "[0, 1, 0, 0, 0, 0]\n",
      "[0, 1, 1, 1, 0, 0]\n",
      "[0, 2, 2, 2, 0, 0]\n",
      "\n",
      "[(3, 4), (3, 5)]\n"
     ]
    }
   ],
   "source": [
    "game = gameBetweenAI()"
   ]
  },
  {
   "cell_type": "markdown",
   "metadata": {},
   "source": [
    "Players seem to be killing themselves if they determine that they can't win, to avoid this behaviour we can change the heuristic from setting death as - or + inf and instead add or subtract the amount of spaces the board has depending on who dies and add the node depth to the heuristic. This will effectively (or at least should) avoid making all decisions equal when death is unavoidable."
   ]
  }
 ],
 "metadata": {
  "kernelspec": {
   "display_name": "base",
   "language": "python",
   "name": "python3"
  },
  "language_info": {
   "codemirror_mode": {
    "name": "ipython",
    "version": 3
   },
   "file_extension": ".py",
   "mimetype": "text/x-python",
   "name": "python",
   "nbconvert_exporter": "python",
   "pygments_lexer": "ipython3",
   "version": "3.10.9"
  }
 },
 "nbformat": 4,
 "nbformat_minor": 2
}
